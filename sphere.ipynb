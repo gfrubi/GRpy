{
 "cells": [
  {
   "cell_type": "code",
   "execution_count": 1,
   "metadata": {
    "collapsed": false
   },
   "outputs": [],
   "source": [
    "from GRpy.all import *\n",
    "init_printing(use_unicode=True)"
   ]
  },
  {
   "cell_type": "markdown",
   "metadata": {},
   "source": [
    "# Sphere:"
   ]
  },
  {
   "cell_type": "markdown",
   "metadata": {},
   "source": [
    "Metric:\n",
    "$$\n",
    "g_{ij}(\\theta, \\phi)=\n",
    "\\begin{bmatrix}\n",
    "a^2 & 0\\\\\n",
    " 0 & a^2 \\sin^2(\\theta)\n",
    "\\end{bmatrix},\n",
    "$$\n",
    "with $a$ the radius of the sphere."
   ]
  },
  {
   "cell_type": "markdown",
   "metadata": {},
   "source": [
    "First we define the symbols for the coordinates $x^a=(\\theta,\\phi)$ and the constants:"
   ]
  },
  {
   "cell_type": "code",
   "execution_count": 2,
   "metadata": {
    "collapsed": false
   },
   "outputs": [],
   "source": [
    "a, theta, phi = symbols('a, theta, phi')"
   ]
  },
  {
   "cell_type": "markdown",
   "metadata": {},
   "source": [
    "Now we define the variable `gab` as a Metric depending on the coordinates, and asign the components:"
   ]
  },
  {
   "cell_type": "code",
   "execution_count": 3,
   "metadata": {
    "collapsed": true
   },
   "outputs": [],
   "source": [
    "gab = Metric((theta, phi))\n",
    "gab[-0,-0] = a**2\n",
    "gab[-0,-1] = 0\n",
    "gab[-1,-0] = 0\n",
    "gab[-1,-1] = (a**2)*(sin(theta))**2"
   ]
  },
  {
   "cell_type": "markdown",
   "metadata": {},
   "source": [
    "The object `gab` is of type `GRpy.Tensor.Metric`, and has several associated methods:"
   ]
  },
  {
   "cell_type": "code",
   "execution_count": 4,
   "metadata": {
    "collapsed": false
   },
   "outputs": [
    {
     "data": {
      "text/plain": [
       "GRpy.Tensor.Metric"
      ]
     },
     "execution_count": 4,
     "metadata": {},
     "output_type": "execute_result"
    }
   ],
   "source": [
    "type(gab)"
   ]
  },
  {
   "cell_type": "code",
   "execution_count": 5,
   "metadata": {
    "collapsed": false
   },
   "outputs": [
    {
     "data": {
      "image/png": "[encoded data removed]",
      "text/latex": [
       "$$\\left \\{ \\left ( -1, \\quad -1\\right ) : a^{2} \\sin^{2}{\\left (\\theta \\right )}, \\quad \\left ( -1, \\quad 0\\right ) : 0, \\quad \\left ( 0, \\quad -1\\right ) : 0, \\quad \\left ( 0, \\quad 0\\right ) : a^{2}\\right \\}$$"
      ],
      "text/plain": [
       "⎧           2    2                                      2⎫\n",
       "⎨(-1, -1): a ⋅sin (θ), (-1, 0): 0, (0, -1): 0, (0, 0): a ⎬\n",
       "⎩                                                        ⎭"
      ]
     },
     "execution_count": 5,
     "metadata": {},
     "output_type": "execute_result"
    }
   ],
   "source": [
    "gab.components"
   ]
  },
  {
   "cell_type": "code",
   "execution_count": 6,
   "metadata": {
    "collapsed": false
   },
   "outputs": [
    {
     "data": {
      "image/png": "[encoded data removed]",
      "text/latex": [
       "$$\\left [ \\left ( \\left ( -1, \\quad -1\\right ), \\quad a^{2} \\sin^{2}{\\left (\\theta \\right )}\\right ), \\quad \\left ( \\left ( 0, \\quad 0\\right ), \\quad a^{2}\\right )\\right ]$$"
      ],
      "text/plain": [
       "⎡⎛           2    2   ⎞  ⎛         2⎞⎤\n",
       "⎣⎝(-1, -1), a ⋅sin (θ)⎠, ⎝(0, 0), a ⎠⎦"
      ]
     },
     "execution_count": 6,
     "metadata": {},
     "output_type": "execute_result"
    }
   ],
   "source": [
    "gab.getNonZero()"
   ]
  },
  {
   "cell_type": "code",
   "execution_count": 7,
   "metadata": {
    "collapsed": false
   },
   "outputs": [
    {
     "data": {
      "image/png": "[encoded data removed]",
      "text/latex": [
       "$$g_{ab}$$"
      ],
      "text/plain": [
       "g_{ab}"
      ]
     },
     "execution_count": 7,
     "metadata": {},
     "output_type": "execute_result"
    }
   ],
   "source": [
    "gab.symbol"
   ]
  },
  {
   "cell_type": "code",
   "execution_count": 8,
   "metadata": {
    "collapsed": false
   },
   "outputs": [
    {
     "name": "stdout",
     "output_type": "stream",
     "text": [
      "======================================================================\n",
      "The non-zero components of g_{ab} are:\n",
      "(-1, -1) : a**2*sin(theta)**2\n",
      "(0, 0) : a**2\n",
      "======================================================================\n"
     ]
    }
   ],
   "source": [
    "gab.__str__()"
   ]
  },
  {
   "cell_type": "markdown",
   "metadata": {},
   "source": [
    "The inverse is computed using `.invert()`:"
   ]
  },
  {
   "cell_type": "code",
   "execution_count": 9,
   "metadata": {
    "collapsed": false
   },
   "outputs": [],
   "source": [
    "ginv = gab.invert()"
   ]
  },
  {
   "cell_type": "code",
   "execution_count": 10,
   "metadata": {
    "collapsed": false
   },
   "outputs": [
    {
     "data": {
      "image/png": "[encoded data removed]",
      "text/latex": [
       "$$\\left [ \\left ( \\left ( 0, \\quad 0\\right ), \\quad \\frac{1}{a^{2}}\\right ), \\quad \\left ( \\left ( 1, \\quad 1\\right ), \\quad \\frac{1}{a^{2} \\sin^{2}{\\left (\\theta \\right )}}\\right )\\right ]$$"
      ],
      "text/plain": [
       "⎡⎛        1 ⎞  ⎛            1     ⎞⎤\n",
       "⎢⎜(0, 0), ──⎟, ⎜(1, 1), ──────────⎟⎥\n",
       "⎢⎜         2⎟  ⎜         2    2   ⎟⎥\n",
       "⎣⎝        a ⎠  ⎝        a ⋅sin (θ)⎠⎦"
      ]
     },
     "execution_count": 10,
     "metadata": {},
     "output_type": "execute_result"
    }
   ],
   "source": [
    "ginv.getNonZero()"
   ]
  },
  {
   "cell_type": "code",
   "execution_count": 11,
   "metadata": {
    "collapsed": false
   },
   "outputs": [
    {
     "name": "stdout",
     "output_type": "stream",
     "text": [
      "======================================================================\n",
      "The non-zero components of g_inv are:\n",
      "(0, 0) : a**(-2)\n",
      "(1, 1) : 1/(a**2*sin(theta)**2)\n",
      "======================================================================\n"
     ]
    }
   ],
   "source": [
    "ginv.__str__()"
   ]
  },
  {
   "cell_type": "markdown",
   "metadata": {},
   "source": [
    "The method `.invert()` computes the inverse:"
   ]
  },
  {
   "cell_type": "markdown",
   "metadata": {},
   "source": [
    "The Christoffel symbols of the second kind $\\{^a_{bc}\\}$ are computed using the function `Christoffel`:"
   ]
  },
  {
   "cell_type": "code",
   "execution_count": 12,
   "metadata": {
    "collapsed": false
   },
   "outputs": [],
   "source": [
    "chris = Christoffel(gab)"
   ]
  },
  {
   "cell_type": "code",
   "execution_count": 13,
   "metadata": {
    "collapsed": false
   },
   "outputs": [
    {
     "data": {
      "image/png": "[encoded data removed]",
      "text/latex": [
       "$$\\Gamma^{a}_{\\ \\ bc}$$"
      ],
      "text/plain": [
       "\\Gamma_{\\ \\ bc}__{a}"
      ]
     },
     "execution_count": 13,
     "metadata": {},
     "output_type": "execute_result"
    }
   ],
   "source": [
    "chris.symbol"
   ]
  },
  {
   "cell_type": "code",
   "execution_count": 14,
   "metadata": {
    "collapsed": false
   },
   "outputs": [
    {
     "data": {
      "image/png": "[encoded data removed]",
      "text/latex": [
       "$$\\left [ \\left ( \\left ( 0, \\quad -1, \\quad -1\\right ), \\quad - \\sin{\\left (\\theta \\right )} \\cos{\\left (\\theta \\right )}\\right ), \\quad \\left ( \\left ( 1, \\quad -1, \\quad 0\\right ), \\quad \\frac{\\cos{\\left (\\theta \\right )}}{\\sin{\\left (\\theta \\right )}}\\right ), \\quad \\left ( \\left ( 1, \\quad 0, \\quad -1\\right ), \\quad \\frac{\\cos{\\left (\\theta \\right )}}{\\sin{\\left (\\theta \\right )}}\\right )\\right ]$$"
      ],
      "text/plain": [
       "⎡                               ⎛            cos(θ)⎞  ⎛            cos(θ)⎞⎤\n",
       "⎢((0, -1, -1), -sin(θ)⋅cos(θ)), ⎜(1, -1, 0), ──────⎟, ⎜(1, 0, -1), ──────⎟⎥\n",
       "⎣                               ⎝            sin(θ)⎠  ⎝            sin(θ)⎠⎦"
      ]
     },
     "execution_count": 14,
     "metadata": {},
     "output_type": "execute_result"
    }
   ],
   "source": [
    "chris.getNonZero()"
   ]
  },
  {
   "cell_type": "markdown",
   "metadata": {},
   "source": [
    "If we want access to a particular component, we can write:"
   ]
  },
  {
   "cell_type": "code",
   "execution_count": 15,
   "metadata": {
    "collapsed": false
   },
   "outputs": [
    {
     "data": {
      "image/png": "[encoded data removed]",
      "text/latex": [
       "$$- \\sin{\\left (\\theta \\right )} \\cos{\\left (\\theta \\right )}$$"
      ],
      "text/plain": [
       "-sin(θ)⋅cos(θ)"
      ]
     },
     "execution_count": 15,
     "metadata": {},
     "output_type": "execute_result"
    }
   ],
   "source": [
    "chris.components[(0,-1,-1)]"
   ]
  },
  {
   "cell_type": "markdown",
   "metadata": {},
   "source": [
    "Similarly, the Riemann tensor can be computed from the Christoffel symbols:"
   ]
  },
  {
   "cell_type": "code",
   "execution_count": 16,
   "metadata": {
    "collapsed": false
   },
   "outputs": [],
   "source": [
    "riem = Riemann(chris)"
   ]
  },
  {
   "cell_type": "code",
   "execution_count": 17,
   "metadata": {
    "collapsed": false
   },
   "outputs": [
    {
     "data": {
      "image/png": "[encoded data removed]",
      "text/latex": [
       "$$R_{abcd}$$"
      ],
      "text/plain": [
       "R_{abcd}"
      ]
     },
     "execution_count": 17,
     "metadata": {},
     "output_type": "execute_result"
    }
   ],
   "source": [
    "riem.symbol"
   ]
  },
  {
   "cell_type": "code",
   "execution_count": 18,
   "metadata": {
    "collapsed": false
   },
   "outputs": [
    {
     "data": {
      "image/png": "[encoded data removed]",
      "text/latex": [
       "$$\\left [ \\left ( \\left ( -1, \\quad 0, \\quad -1, \\quad 0\\right ), \\quad a^{2} \\sin^{2}{\\left (\\theta \\right )}\\right ), \\quad \\left ( \\left ( -1, \\quad 0, \\quad 0, \\quad -1\\right ), \\quad - a^{2} \\sin^{2}{\\left (\\theta \\right )}\\right ), \\quad \\left ( \\left ( 0, \\quad -1, \\quad -1, \\quad 0\\right ), \\quad - a^{2} \\sin^{2}{\\left (\\theta \\right )}\\right ), \\quad \\left ( \\left ( 0, \\quad -1, \\quad 0, \\quad -1\\right ), \\quad a^{2} \\sin^{2}{\\left (\\theta \\right )}\\right )\\right ]$$"
      ],
      "text/plain": [
       "⎡⎛                 2    2   ⎞  ⎛                  2    2   ⎞  ⎛               \n",
       "⎣⎝(-1, 0, -1, 0), a ⋅sin (θ)⎠, ⎝(-1, 0, 0, -1), -a ⋅sin (θ)⎠, ⎝(0, -1, -1, 0),\n",
       "\n",
       "   2    2   ⎞  ⎛                 2    2   ⎞⎤\n",
       " -a ⋅sin (θ)⎠, ⎝(0, -1, 0, -1), a ⋅sin (θ)⎠⎦"
      ]
     },
     "execution_count": 18,
     "metadata": {},
     "output_type": "execute_result"
    }
   ],
   "source": [
    "riem.getNonZero()"
   ]
  },
  {
   "cell_type": "markdown",
   "metadata": {},
   "source": [
    "By default, `Riemann()` computes the covariant components of the curvature. The completely contravariant components $R^{abcd}$ can then be computed using the method `.Riemann_cont`:"
   ]
  },
  {
   "cell_type": "code",
   "execution_count": 19,
   "metadata": {
    "collapsed": false
   },
   "outputs": [
    {
     "data": {
      "image/png": "[encoded data removed]",
      "text/latex": [
       "$$R^{abcd}$$"
      ],
      "text/plain": [
       "R__{abcd}"
      ]
     },
     "execution_count": 19,
     "metadata": {},
     "output_type": "execute_result"
    }
   ],
   "source": [
    "riem.Riemann_cont.symbol"
   ]
  },
  {
   "cell_type": "code",
   "execution_count": 20,
   "metadata": {
    "collapsed": false
   },
   "outputs": [
    {
     "data": {
      "image/png": "[encoded data removed]",
      "text/latex": [
       "$$\\left [ \\left ( \\left ( 0, \\quad 1, \\quad 0, \\quad 1\\right ), \\quad \\frac{1}{a^{6} \\sin^{2}{\\left (\\theta \\right )}}\\right ), \\quad \\left ( \\left ( 0, \\quad 1, \\quad 1, \\quad 0\\right ), \\quad - \\frac{1}{a^{6} \\sin^{2}{\\left (\\theta \\right )}}\\right ), \\quad \\left ( \\left ( 1, \\quad 0, \\quad 0, \\quad 1\\right ), \\quad - \\frac{1}{a^{6} \\sin^{2}{\\left (\\theta \\right )}}\\right ), \\quad \\left ( \\left ( 1, \\quad 0, \\quad 1, \\quad 0\\right ), \\quad \\frac{1}{a^{6} \\sin^{2}{\\left (\\theta \\right )}}\\right )\\right ]$$"
      ],
      "text/plain": [
       "⎡⎛                  1     ⎞  ⎛                 -1     ⎞  ⎛                 -1 \n",
       "⎢⎜(0, 1, 0, 1), ──────────⎟, ⎜(0, 1, 1, 0), ──────────⎟, ⎜(1, 0, 0, 1), ──────\n",
       "⎢⎜               6    2   ⎟  ⎜               6    2   ⎟  ⎜               6    \n",
       "⎣⎝              a ⋅sin (θ)⎠  ⎝              a ⋅sin (θ)⎠  ⎝              a ⋅sin\n",
       "\n",
       "    ⎞  ⎛                  1     ⎞⎤\n",
       "────⎟, ⎜(1, 0, 1, 0), ──────────⎟⎥\n",
       "2   ⎟  ⎜               6    2   ⎟⎥\n",
       " (θ)⎠  ⎝              a ⋅sin (θ)⎠⎦"
      ]
     },
     "execution_count": 20,
     "metadata": {},
     "output_type": "execute_result"
    }
   ],
   "source": [
    "riem.Riemann_cont.getNonZero()"
   ]
  },
  {
   "cell_type": "markdown",
   "metadata": {},
   "source": [
    "Similarly, `.Riemann_par` computes $R^{ab}_{\\ \\ cd}$:"
   ]
  },
  {
   "cell_type": "code",
   "execution_count": 21,
   "metadata": {
    "collapsed": false
   },
   "outputs": [
    {
     "data": {
      "image/png": "[encoded data removed]",
      "text/latex": [
       "$$R^{ab}_{\\ \\ \\ cd}$$"
      ],
      "text/plain": [
       "R_{\\ \\ \\ cd}__{ab}"
      ]
     },
     "execution_count": 21,
     "metadata": {},
     "output_type": "execute_result"
    }
   ],
   "source": [
    "riem.Riemann_par.symbol"
   ]
  },
  {
   "cell_type": "code",
   "execution_count": 22,
   "metadata": {
    "collapsed": false
   },
   "outputs": [
    {
     "data": {
      "image/png": "[encoded data removed]",
      "text/latex": [
       "$$\\left [ \\left ( \\left ( 0, \\quad 1, \\quad -1, \\quad 0\\right ), \\quad - \\frac{1}{a^{2}}\\right ), \\quad \\left ( \\left ( 0, \\quad 1, \\quad 0, \\quad -1\\right ), \\quad \\frac{1}{a^{2}}\\right ), \\quad \\left ( \\left ( 1, \\quad 0, \\quad -1, \\quad 0\\right ), \\quad \\frac{1}{a^{2}}\\right ), \\quad \\left ( \\left ( 1, \\quad 0, \\quad 0, \\quad -1\\right ), \\quad - \\frac{1}{a^{2}}\\right )\\right ]$$"
      ],
      "text/plain": [
       "⎡⎛               -1 ⎞  ⎛               1 ⎞  ⎛               1 ⎞  ⎛            \n",
       "⎢⎜(0, 1, -1, 0), ───⎟, ⎜(0, 1, 0, -1), ──⎟, ⎜(1, 0, -1, 0), ──⎟, ⎜(1, 0, 0, -1\n",
       "⎢⎜                 2⎟  ⎜                2⎟  ⎜                2⎟  ⎜            \n",
       "⎣⎝                a ⎠  ⎝               a ⎠  ⎝               a ⎠  ⎝            \n",
       "\n",
       "   -1 ⎞⎤\n",
       "), ───⎟⎥\n",
       "     2⎟⎥\n",
       "    a ⎠⎦"
      ]
     },
     "execution_count": 22,
     "metadata": {},
     "output_type": "execute_result"
    }
   ],
   "source": [
    "riem.Riemann_par.getNonZero()"
   ]
  },
  {
   "cell_type": "markdown",
   "metadata": {},
   "source": [
    "The Ricci tensor of a given curvature tensor is computed using `Ricci()`, with the curvature tensor as argument:"
   ]
  },
  {
   "cell_type": "code",
   "execution_count": 23,
   "metadata": {
    "collapsed": false
   },
   "outputs": [
    {
     "data": {
      "image/png": "[encoded data removed]",
      "text/latex": [
       "$$R_{ab}$$"
      ],
      "text/plain": [
       "R_{ab}"
      ]
     },
     "execution_count": 23,
     "metadata": {},
     "output_type": "execute_result"
    }
   ],
   "source": [
    "ricc = Ricci(riem)\n",
    "ricc.symbol"
   ]
  },
  {
   "cell_type": "code",
   "execution_count": 24,
   "metadata": {
    "collapsed": false
   },
   "outputs": [
    {
     "data": {
      "image/png": "[encoded data removed]",
      "text/latex": [
       "$$\\left [ \\left ( \\left ( -1, \\quad -1\\right ), \\quad \\sin^{2}{\\left (\\theta \\right )}\\right ), \\quad \\left ( \\left ( 0, \\quad 0\\right ), \\quad 1\\right )\\right ]$$"
      ],
      "text/plain": [
       "⎡⎛             2   ⎞             ⎤\n",
       "⎣⎝(-1, -1), sin (θ)⎠, ((0, 0), 1)⎦"
      ]
     },
     "execution_count": 24,
     "metadata": {},
     "output_type": "execute_result"
    }
   ],
   "source": [
    "ricc.getNonZero()"
   ]
  },
  {
   "cell_type": "markdown",
   "metadata": {},
   "source": [
    "The curvature scalar $R=g^{ab}R_{ab}$ can be computed using `Scalar(Metric, Ricci, Riemann)`:"
   ]
  },
  {
   "cell_type": "code",
   "execution_count": 25,
   "metadata": {
    "collapsed": false
   },
   "outputs": [
    {
     "data": {
      "image/png": "[encoded data removed]",
      "text/latex": [
       "$$\\frac{2}{a^{2}}$$"
      ],
      "text/plain": [
       "2 \n",
       "──\n",
       " 2\n",
       "a "
      ]
     },
     "execution_count": 25,
     "metadata": {},
     "output_type": "execute_result"
    }
   ],
   "source": [
    "scurv = Scurv(gab,ricc)\n",
    "scurv"
   ]
  },
  {
   "cell_type": "code",
   "execution_count": 26,
   "metadata": {
    "collapsed": false
   },
   "outputs": [
    {
     "ename": "NameError",
     "evalue": "global name 'Rational' is not defined",
     "output_type": "error",
     "traceback": [
      "\u001b[0;31m---------------------------------------------------------------------------\u001b[0m",
      "\u001b[0;31mNameError\u001b[0m                                 Traceback (most recent call last)",
      "\u001b[0;32m<ipython-input-26-ef09776a8bef>\u001b[0m in \u001b[0;36m<module>\u001b[0;34m()\u001b[0m\n\u001b[0;32m----> 1\u001b[0;31m \u001b[0meinstein\u001b[0m \u001b[0;34m=\u001b[0m \u001b[0mEinstein\u001b[0m\u001b[0;34m(\u001b[0m\u001b[0mgab\u001b[0m\u001b[0;34m,\u001b[0m \u001b[0mricc\u001b[0m\u001b[0;34m,\u001b[0m \u001b[0mscurv\u001b[0m\u001b[0;34m)\u001b[0m\u001b[0;34m\u001b[0m\u001b[0m\n\u001b[0m\u001b[1;32m      2\u001b[0m \u001b[0meinstein\u001b[0m\u001b[0;34m.\u001b[0m\u001b[0mgetNonZero\u001b[0m\u001b[0;34m(\u001b[0m\u001b[0;34m)\u001b[0m\u001b[0;34m\u001b[0m\u001b[0m\n",
      "\u001b[0;32m/mnt/HDD/gr/Dropbox/Git/GRpy/GRpy/Riemann.pyc\u001b[0m in \u001b[0;36m__init__\u001b[0;34m(self, metric, Ric, RS)\u001b[0m\n\u001b[1;32m    168\u001b[0m                 \u001b[0;32mfor\u001b[0m \u001b[0ma\u001b[0m \u001b[0;32min\u001b[0m \u001b[0marange\u001b[0m\u001b[0;34m(\u001b[0m\u001b[0mself\u001b[0m\u001b[0;34m.\u001b[0m\u001b[0mdim\u001b[0m\u001b[0;34m)\u001b[0m\u001b[0;34m:\u001b[0m\u001b[0;34m\u001b[0m\u001b[0m\n\u001b[1;32m    169\u001b[0m                         \u001b[0;32mfor\u001b[0m \u001b[0mb\u001b[0m \u001b[0;32min\u001b[0m \u001b[0marange\u001b[0m\u001b[0;34m(\u001b[0m\u001b[0mself\u001b[0m\u001b[0;34m.\u001b[0m\u001b[0mdim\u001b[0m\u001b[0;34m)\u001b[0m\u001b[0;34m:\u001b[0m\u001b[0;34m\u001b[0m\u001b[0m\n\u001b[0;32m--> 170\u001b[0;31m                                 \u001b[0mself\u001b[0m\u001b[0;34m.\u001b[0m\u001b[0mcomponents\u001b[0m\u001b[0;34m[\u001b[0m\u001b[0;34m-\u001b[0m\u001b[0ma\u001b[0m\u001b[0;34m,\u001b[0m\u001b[0;34m-\u001b[0m\u001b[0mb\u001b[0m\u001b[0;34m]\u001b[0m \u001b[0;34m=\u001b[0m \u001b[0mRic\u001b[0m\u001b[0;34m[\u001b[0m\u001b[0;34m-\u001b[0m\u001b[0ma\u001b[0m\u001b[0;34m,\u001b[0m\u001b[0;34m-\u001b[0m\u001b[0mb\u001b[0m\u001b[0;34m]\u001b[0m \u001b[0;34m-\u001b[0m \u001b[0mRational\u001b[0m\u001b[0;34m(\u001b[0m\u001b[0;36m1\u001b[0m\u001b[0;34m,\u001b[0m\u001b[0;36m2\u001b[0m\u001b[0;34m)\u001b[0m\u001b[0;34m*\u001b[0m\u001b[0mRS\u001b[0m\u001b[0;34m*\u001b[0m\u001b[0mg_down\u001b[0m\u001b[0;34m[\u001b[0m\u001b[0;34m-\u001b[0m\u001b[0ma\u001b[0m\u001b[0;34m,\u001b[0m\u001b[0;34m-\u001b[0m\u001b[0mb\u001b[0m\u001b[0;34m]\u001b[0m\u001b[0;34m\u001b[0m\u001b[0m\n\u001b[0m\u001b[1;32m    171\u001b[0m                 \u001b[0mself\u001b[0m\u001b[0;34m.\u001b[0m\u001b[0mgetNonZero\u001b[0m\u001b[0;34m(\u001b[0m\u001b[0;34m)\u001b[0m\u001b[0;34m\u001b[0m\u001b[0m\n\u001b[1;32m    172\u001b[0m \u001b[0;34m\u001b[0m\u001b[0m\n",
      "\u001b[0;31mNameError\u001b[0m: global name 'Rational' is not defined"
     ]
    }
   ],
   "source": [
    "einstein = Einstein(gab, ricc, scurv)\n",
    "einstein.getNonZero()"
   ]
  },
  {
   "cell_type": "code",
   "execution_count": null,
   "metadata": {
    "collapsed": false
   },
   "outputs": [],
   "source": [
    "Rational(1,2)"
   ]
  },
  {
   "cell_type": "code",
   "execution_count": null,
   "metadata": {
    "collapsed": false
   },
   "outputs": [],
   "source": [
    "#gij_det = gij.determinant\n",
    "\n",
    "\n",
    "Kretschmann_scalar = scalar.Scr_Kretsch#\n",
    "Other_scalar = scalar.Scr_Other#\n"
   ]
  },
  {
   "cell_type": "code",
   "execution_count": null,
   "metadata": {
    "collapsed": false
   },
   "outputs": [],
   "source": [
    "einstein.__str__()"
   ]
  },
  {
   "cell_type": "markdown",
   "metadata": {},
   "source": [
    "# Verifying:"
   ]
  },
  {
   "cell_type": "markdown",
   "metadata": {},
   "source": [
    "Consider the following properties for spaces with constant curvature:"
   ]
  },
  {
   "cell_type": "markdown",
   "metadata": {},
   "source": [
    "$$ R_{ijkl}=\\alpha (g_{ik}g_{jl}-g_{jk}g_{il}),$$\n",
    "$$ g_{ij}= \\frac{R_{ij}}{\\alpha(d-1)},$$\n",
    "\n",
    "Then \n",
    "$$\\alpha = R/(d(d-1)).$$\n",
    "\n",
    "As $d=2$ and $R =2/a^2$, then $\\alpha =1/a^2$."
   ]
  },
  {
   "cell_type": "code",
   "execution_count": null,
   "metadata": {
    "collapsed": false
   },
   "outputs": [],
   "source": [
    "alpha = 1/(a**2)"
   ]
  },
  {
   "cell_type": "code",
   "execution_count": null,
   "metadata": {
    "collapsed": false,
    "scrolled": true
   },
   "outputs": [],
   "source": [
    "for i in range(2):\n",
    "    for j in range(2):\n",
    "        for m in range(2):\n",
    "            for l in range(2):\n",
    "                cosa = gij.components[-i,-m]*gij.components[-j,-l]-gij.components[-j,-m]*gij.components[-i,-l]\n",
    "                print '(%d,%d,%d,%d)'%(i,j,m,l), cancel(riemann.components[-i,-j,-m,-l])==simplify(alpha*cosa)"
   ]
  },
  {
   "cell_type": "code",
   "execution_count": null,
   "metadata": {
    "collapsed": false
   },
   "outputs": [],
   "source": [
    "for i in range(2):\n",
    "    for j in range(2):\n",
    "        print '(%d,%d)'%(i,j), cancel(gij.components[-i,-j])==simplify(ricci.components[-i,-j]/(alpha))"
   ]
  },
  {
   "cell_type": "markdown",
   "metadata": {},
   "source": [
    "# Killing Equation"
   ]
  },
  {
   "cell_type": "code",
   "execution_count": null,
   "metadata": {
    "collapsed": true
   },
   "outputs": [],
   "source": [
    "A0 = Function('A0')(theta,phi)\n",
    "A1 = Function('A1')(theta,phi)"
   ]
  },
  {
   "cell_type": "code",
   "execution_count": null,
   "metadata": {
    "collapsed": true
   },
   "outputs": [],
   "source": [
    "A = XI((theta,phi))\n",
    "A[0] = A0\n",
    "A[1] = A1"
   ]
  },
  {
   "cell_type": "code",
   "execution_count": null,
   "metadata": {
    "collapsed": false
   },
   "outputs": [],
   "source": [
    "Ke = Killing_Equation(A,gij)"
   ]
  },
  {
   "cell_type": "code",
   "execution_count": null,
   "metadata": {
    "collapsed": false
   },
   "outputs": [],
   "source": [
    "Ke.components"
   ]
  },
  {
   "cell_type": "code",
   "execution_count": null,
   "metadata": {
    "collapsed": false
   },
   "outputs": [],
   "source": [
    "e1=Ke.components[(-1,-1)]\n",
    "e2=Ke.components[(-1,0)]\n",
    "e3=Ke.components[(0,0)]"
   ]
  },
  {
   "cell_type": "code",
   "execution_count": null,
   "metadata": {
    "collapsed": false
   },
   "outputs": [],
   "source": [
    "e3"
   ]
  },
  {
   "cell_type": "code",
   "execution_count": null,
   "metadata": {
    "collapsed": false
   },
   "outputs": [],
   "source": [
    "s=pdsolve(e3)"
   ]
  },
  {
   "cell_type": "code",
   "execution_count": null,
   "metadata": {
    "collapsed": false
   },
   "outputs": [],
   "source": [
    "e4=e1.subs(A0,s.rhs)\n",
    "e4"
   ]
  },
  {
   "cell_type": "code",
   "execution_count": null,
   "metadata": {
    "collapsed": false
   },
   "outputs": [],
   "source": [
    "s2=solve(e4,F)\n",
    "s2"
   ]
  },
  {
   "cell_type": "code",
   "execution_count": null,
   "metadata": {
    "collapsed": false
   },
   "outputs": [],
   "source": [
    "e2.subs(A0,s.rhs)"
   ]
  },
  {
   "cell_type": "code",
   "execution_count": null,
   "metadata": {
    "collapsed": false,
    "scrolled": true
   },
   "outputs": [],
   "source": [
    "Ke.__str__()"
   ]
  },
  {
   "cell_type": "markdown",
   "metadata": {},
   "source": [
    "# Checking Killing equations:"
   ]
  },
  {
   "cell_type": "markdown",
   "metadata": {},
   "source": [
    "$$\\vec{\\xi}_{1}(\\theta,\\phi)=(\\sin(\\phi),\\cot(\\theta)\\cos(\\theta)),$$\n",
    "$$\\vec{\\xi}_{2}(\\theta,\\phi)=(\\cos(\\phi),-\\cot(\\theta)\\sin(\\theta)),$$\n",
    "$$\\vec{\\xi}_{3}(\\theta,\\phi)=(0,1).$$"
   ]
  },
  {
   "cell_type": "code",
   "execution_count": null,
   "metadata": {
    "collapsed": true
   },
   "outputs": [],
   "source": [
    "xi1 = XI((theta,phi))\n",
    "xi2 = XI((theta,phi))\n",
    "xi3 = XI((theta,phi))\n",
    "xi1[0] = sin(phi)\n",
    "xi1[1] = cot(theta)*cos(phi)\n",
    "xi2[0] = cos(phi)\n",
    "xi2[1] = -cot(theta)*sin(phi)\n",
    "xi3[0] = 0\n",
    "xi3[1] = 1"
   ]
  },
  {
   "cell_type": "code",
   "execution_count": null,
   "metadata": {
    "collapsed": false
   },
   "outputs": [],
   "source": [
    "Ke1 = Killing_Equation(xi1,gij)\n",
    "Ke2 = Killing_Equation(xi2,gij)\n",
    "Ke3 = Killing_Equation(xi3,gij)"
   ]
  },
  {
   "cell_type": "code",
   "execution_count": null,
   "metadata": {
    "collapsed": false
   },
   "outputs": [],
   "source": [
    "Ke1.__str__()\n",
    "Ke2.__str__()\n",
    "Ke3.__str__()"
   ]
  },
  {
   "cell_type": "markdown",
   "metadata": {},
   "source": [
    "# Covariant derivative:"
   ]
  },
  {
   "cell_type": "code",
   "execution_count": null,
   "metadata": {
    "collapsed": true
   },
   "outputs": [],
   "source": [
    "A0 = Function('A0')(theta,phi)\n",
    "A1 = Function('A1')(theta,phi)"
   ]
  },
  {
   "cell_type": "code",
   "execution_count": null,
   "metadata": {
    "collapsed": true
   },
   "outputs": [],
   "source": [
    "A = XI((theta,phi))"
   ]
  },
  {
   "cell_type": "code",
   "execution_count": null,
   "metadata": {
    "collapsed": true
   },
   "outputs": [],
   "source": [
    "A[0]= A0\n",
    "A[1]= A1"
   ]
  },
  {
   "cell_type": "code",
   "execution_count": null,
   "metadata": {
    "collapsed": false
   },
   "outputs": [],
   "source": [
    "Cov_der = Covariant_Derivative(A, christoffel)"
   ]
  },
  {
   "cell_type": "code",
   "execution_count": null,
   "metadata": {
    "collapsed": false
   },
   "outputs": [],
   "source": [
    "Cov_der.__str__()"
   ]
  },
  {
   "cell_type": "markdown",
   "metadata": {},
   "source": [
    "# Geodesic equation:"
   ]
  },
  {
   "cell_type": "code",
   "execution_count": null,
   "metadata": {
    "collapsed": false
   },
   "outputs": [],
   "source": [
    "Geo_eq = Geodesic_Equation(christoffel)"
   ]
  },
  {
   "cell_type": "code",
   "execution_count": null,
   "metadata": {
    "collapsed": false
   },
   "outputs": [],
   "source": [
    "Geo_eq.__str__()"
   ]
  },
  {
   "cell_type": "code",
   "execution_count": null,
   "metadata": {
    "collapsed": false
   },
   "outputs": [],
   "source": [
    "Geo_eq.components[0]"
   ]
  },
  {
   "cell_type": "code",
   "execution_count": null,
   "metadata": {
    "collapsed": false
   },
   "outputs": [],
   "source": [
    "Geo_eq.components[1]"
   ]
  },
  {
   "cell_type": "code",
   "execution_count": null,
   "metadata": {
    "collapsed": false
   },
   "outputs": [],
   "source": [
    "Geo_eq.x_up.components[0]"
   ]
  },
  {
   "cell_type": "code",
   "execution_count": null,
   "metadata": {
    "collapsed": false
   },
   "outputs": [],
   "source": [
    "Geo_eq.x_up.components[1]"
   ]
  },
  {
   "cell_type": "code",
   "execution_count": null,
   "metadata": {
    "collapsed": false
   },
   "outputs": [],
   "source": [
    "Geo_eq.x_down.components[-0]"
   ]
  },
  {
   "cell_type": "code",
   "execution_count": null,
   "metadata": {
    "collapsed": false
   },
   "outputs": [],
   "source": [
    "Geo_eq.x_down.components[-1]"
   ]
  }
 ],
 "metadata": {
  "anaconda-cloud": {},
  "kernelspec": {
   "display_name": "Python [default]",
   "language": "python",
   "name": "python2"
  },
  "language_info": {
   "codemirror_mode": {
    "name": "ipython",
    "version": 2
   },
   "file_extension": ".py",
   "mimetype": "text/x-python",
   "name": "python",
   "nbconvert_exporter": "python",
   "pygments_lexer": "ipython2",
   "version": "2.7.12"
  }
 },
 "nbformat": 4,
 "nbformat_minor": 0
}
